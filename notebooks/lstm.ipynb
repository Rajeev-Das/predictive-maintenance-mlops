{
 "cells": [
  {
   "cell_type": "markdown",
   "id": "a6a38db1",
   "metadata": {},
   "source": [
    "*Key Concept*\n",
    "    For LSTM, you must feed time-series sequences per engine to the model (not just tabular snapshots), since LSTM learns from the temporal pattern of the data.\n",
    "\n",
    "**Pipeline Steps for LSTM on CMAPSS**\n",
    "\n",
    "Step 1: Frame Data as Sequences\n",
    "\n",
    "* For each engine, split its cycle data into overlapping or last-N-length windows (e.g., last 30 cycles for each engine).\n",
    "\n",
    "* Typical input: array of shape (number_of_engines, window_size, num_features)\n",
    "* Output: RUL value for the last step of each window.\n",
    "\n",
    "Step 2: Choose Features\n",
    "\n",
    "* Include most informative raw sensors, rolling means, slopes, operational settings as desired.\n",
    "\n",
    "* Normalize/standardize features (LSTMs are sensitive to scaling).\n",
    "\n",
    "Step 3: Build Dataset for Keras/PyTorch\n",
    "\n",
    "* X: sequences of shape (n_samples, window, n_features)\n",
    "\n",
    "* y: RUL at the last cycle in each window\n",
    "\n",
    "Step 4: Define and Train LSTM Model\n",
    "\n",
    "* Input shape: (window, n_features)\n",
    "\n",
    "* Commonly 1 or 2 stacked LSTM layers, then Dense layers for regression output\n",
    "\n"
   ]
  },
  {
   "cell_type": "markdown",
   "id": "e120b9fc",
   "metadata": {},
   "source": [
    "#### Create Sequences for LSTM Input"
   ]
  },
  {
   "cell_type": "code",
   "execution_count": 1,
   "id": "67b559e4",
   "metadata": {},
   "outputs": [],
   "source": [
    "import numpy as np\n",
    "import pandas as pd\n",
    "\n",
    "SEQUENCE_LENGTH = 30  # Window size (tunable)\n",
    "features = [\n",
    "    'op_setting_1', 'op_setting_2',\n",
    "    'sensor_4_rollmean', 'sensor_12', 'sensor_7', 'sensor_21', 'sensor_20',\n",
    "    'sensor_12_rollmean', 'sensor_7_rollmean', 'sensor_21_rollmean',\n",
    "    'sensor_12_slope', 'sensor_7_slope', 'sensor_21_slope'\n",
    "]\n",
    "\n",
    "def create_sequences(df, seq_length, feature_list, rul_col='RUL'):\n",
    "    X, y = [], []\n",
    "    for unit_num in df['unit'].unique():\n",
    "        sub = df[df['unit'] == unit_num].sort_values('cycle')\n",
    "        feature_array = sub[feature_list].values\n",
    "        rul_array = sub[rul_col].values\n",
    "        if len(sub) >= seq_length:\n",
    "            for i in range(seq_length-1, len(sub)):\n",
    "                X.append(feature_array[i-seq_length+1:i+1, :])\n",
    "                y.append(rul_array[i])\n",
    "    return np.array(X), np.array(y)\n"
   ]
  },
  {
   "cell_type": "markdown",
   "id": "d91a97c9",
   "metadata": {},
   "source": [
    "####  Processing the Training Set"
   ]
  },
  {
   "cell_type": "code",
   "execution_count": 2,
   "id": "5f4bbbdf",
   "metadata": {},
   "outputs": [],
   "source": [
    "# Load the full train set (include rolling/slope features as before)\n",
    "train = pd.read_csv('../data/CMAPSSData/train_FD001.txt', sep='\\\\s+', header=None, index_col=None)\n",
    "col_names = ['unit', 'cycle', 'op_setting_1', 'op_setting_2', 'op_setting_3'] + [f'sensor_{i}' for i in range(1, 22)]\n",
    "train.columns = col_names\n",
    "drop_cols = ['op_setting_3', 'sensor_1', 'sensor_5', 'sensor_6', 'sensor_10', 'sensor_16', 'sensor_18', 'sensor_19']\n",
    "train = train.drop(columns=drop_cols)\n",
    "# Calculate RUL\n",
    "train['max_cycle'] = train.groupby('unit')['cycle'].transform('max')\n",
    "train['RUL'] = train['max_cycle'] - train['cycle']\n",
    "\n",
    "# Add rolling mean features\n",
    "def add_rolling_mean(df, sensors, window):\n",
    "    for sensor in sensors:\n",
    "        df[f'{sensor}_rollmean'] = (\n",
    "            df.groupby('unit')[sensor].rolling(window, min_periods=1).mean().reset_index(level=0, drop=True)\n",
    "        )\n",
    "    return df\n",
    "def add_rolling_slope(df, sensors, window):\n",
    "    def rolling_slope(x):\n",
    "        def linreg(x):\n",
    "            if len(x) < 2:\n",
    "                return np.nan\n",
    "            idx = np.arange(len(x))\n",
    "            return np.polyfit(idx, x, 1)[0]\n",
    "        return x.rolling(window, min_periods=2).apply(linreg, raw=True)\n",
    "    for sensor in sensors:\n",
    "        df[f'{sensor}_slope'] = df.groupby('unit')[sensor].apply(rolling_slope).reset_index(level=0, drop=True)\n",
    "    return df\n",
    "\n",
    "rolling_sensors = ['sensor_4', 'sensor_12', 'sensor_7', 'sensor_21']\n",
    "slope_sensors = ['sensor_12', 'sensor_7', 'sensor_21']\n",
    "train = add_rolling_mean(train, rolling_sensors, window=5)\n",
    "train = add_rolling_slope(train, slope_sensors, window=5)\n",
    "\n",
    "# Drop NA (early cycles may not have slope)\n",
    "train = train.dropna(subset=features)\n"
   ]
  },
  {
   "cell_type": "markdown",
   "id": "f404d8fa",
   "metadata": {},
   "source": [
    "#### Sequence Data Creation & Scaling"
   ]
  },
  {
   "cell_type": "code",
   "execution_count": 3,
   "id": "3544b422",
   "metadata": {},
   "outputs": [],
   "source": [
    "# Create fixed-length rolling windows for LSTM\n",
    "X_seq, y_seq = create_sequences(train, SEQUENCE_LENGTH, features)\n",
    "\n",
    "# Scale features (important for NN!)\n",
    "from sklearn.preprocessing import StandardScaler\n",
    "scaler = StandardScaler()\n",
    "nsamples, nsteps, nfeatures = X_seq.shape\n",
    "X_seq_flat = X_seq.reshape(-1, nfeatures)          # Flatten for fit\n",
    "X_seq_flat_scaled = scaler.fit_transform(X_seq_flat)\n",
    "X_seq_scaled = X_seq_flat_scaled.reshape(nsamples, nsteps, nfeatures)\n"
   ]
  },
  {
   "cell_type": "markdown",
   "id": "2f7a122a",
   "metadata": {},
   "source": [
    "#### Train/Validation Split"
   ]
  },
  {
   "cell_type": "code",
   "execution_count": 4,
   "id": "6a4f20a8",
   "metadata": {},
   "outputs": [],
   "source": [
    "from sklearn.model_selection import train_test_split\n",
    "\n",
    "X_train, X_val, y_train, y_val = train_test_split(X_seq_scaled, y_seq, test_size=0.2, random_state=42)\n"
   ]
  },
  {
   "cell_type": "code",
   "execution_count": 5,
   "id": "f3e9f422",
   "metadata": {},
   "outputs": [
    {
     "data": {
      "text/html": [
       "<pre style=\"white-space:pre;overflow-x:auto;line-height:normal;font-family:Menlo,'DejaVu Sans Mono',consolas,'Courier New',monospace\"><span style=\"font-weight: bold\">Model: \"sequential\"</span>\n",
       "</pre>\n"
      ],
      "text/plain": [
       "\u001b[1mModel: \"sequential\"\u001b[0m\n"
      ]
     },
     "metadata": {},
     "output_type": "display_data"
    },
    {
     "data": {
      "text/html": [
       "<pre style=\"white-space:pre;overflow-x:auto;line-height:normal;font-family:Menlo,'DejaVu Sans Mono',consolas,'Courier New',monospace\">┏━━━━━━━━━━━━━━━━━━━━━━━━━━━━━━━━━┳━━━━━━━━━━━━━━━━━━━━━━━━┳━━━━━━━━━━━━━━━┓\n",
       "┃<span style=\"font-weight: bold\"> Layer (type)                    </span>┃<span style=\"font-weight: bold\"> Output Shape           </span>┃<span style=\"font-weight: bold\">       Param # </span>┃\n",
       "┡━━━━━━━━━━━━━━━━━━━━━━━━━━━━━━━━━╇━━━━━━━━━━━━━━━━━━━━━━━━╇━━━━━━━━━━━━━━━┩\n",
       "│ lstm (<span style=\"color: #0087ff; text-decoration-color: #0087ff\">LSTM</span>)                     │ (<span style=\"color: #00d7ff; text-decoration-color: #00d7ff\">None</span>, <span style=\"color: #00af00; text-decoration-color: #00af00\">30</span>, <span style=\"color: #00af00; text-decoration-color: #00af00\">80</span>)         │        <span style=\"color: #00af00; text-decoration-color: #00af00\">30,080</span> │\n",
       "├─────────────────────────────────┼────────────────────────┼───────────────┤\n",
       "│ dropout (<span style=\"color: #0087ff; text-decoration-color: #0087ff\">Dropout</span>)               │ (<span style=\"color: #00d7ff; text-decoration-color: #00d7ff\">None</span>, <span style=\"color: #00af00; text-decoration-color: #00af00\">30</span>, <span style=\"color: #00af00; text-decoration-color: #00af00\">80</span>)         │             <span style=\"color: #00af00; text-decoration-color: #00af00\">0</span> │\n",
       "├─────────────────────────────────┼────────────────────────┼───────────────┤\n",
       "│ lstm_1 (<span style=\"color: #0087ff; text-decoration-color: #0087ff\">LSTM</span>)                   │ (<span style=\"color: #00d7ff; text-decoration-color: #00d7ff\">None</span>, <span style=\"color: #00af00; text-decoration-color: #00af00\">40</span>)             │        <span style=\"color: #00af00; text-decoration-color: #00af00\">19,360</span> │\n",
       "├─────────────────────────────────┼────────────────────────┼───────────────┤\n",
       "│ dropout_1 (<span style=\"color: #0087ff; text-decoration-color: #0087ff\">Dropout</span>)             │ (<span style=\"color: #00d7ff; text-decoration-color: #00d7ff\">None</span>, <span style=\"color: #00af00; text-decoration-color: #00af00\">40</span>)             │             <span style=\"color: #00af00; text-decoration-color: #00af00\">0</span> │\n",
       "├─────────────────────────────────┼────────────────────────┼───────────────┤\n",
       "│ dense (<span style=\"color: #0087ff; text-decoration-color: #0087ff\">Dense</span>)                   │ (<span style=\"color: #00d7ff; text-decoration-color: #00d7ff\">None</span>, <span style=\"color: #00af00; text-decoration-color: #00af00\">1</span>)              │            <span style=\"color: #00af00; text-decoration-color: #00af00\">41</span> │\n",
       "└─────────────────────────────────┴────────────────────────┴───────────────┘\n",
       "</pre>\n"
      ],
      "text/plain": [
       "┏━━━━━━━━━━━━━━━━━━━━━━━━━━━━━━━━━┳━━━━━━━━━━━━━━━━━━━━━━━━┳━━━━━━━━━━━━━━━┓\n",
       "┃\u001b[1m \u001b[0m\u001b[1mLayer (type)                   \u001b[0m\u001b[1m \u001b[0m┃\u001b[1m \u001b[0m\u001b[1mOutput Shape          \u001b[0m\u001b[1m \u001b[0m┃\u001b[1m \u001b[0m\u001b[1m      Param #\u001b[0m\u001b[1m \u001b[0m┃\n",
       "┡━━━━━━━━━━━━━━━━━━━━━━━━━━━━━━━━━╇━━━━━━━━━━━━━━━━━━━━━━━━╇━━━━━━━━━━━━━━━┩\n",
       "│ lstm (\u001b[38;5;33mLSTM\u001b[0m)                     │ (\u001b[38;5;45mNone\u001b[0m, \u001b[38;5;34m30\u001b[0m, \u001b[38;5;34m80\u001b[0m)         │        \u001b[38;5;34m30,080\u001b[0m │\n",
       "├─────────────────────────────────┼────────────────────────┼───────────────┤\n",
       "│ dropout (\u001b[38;5;33mDropout\u001b[0m)               │ (\u001b[38;5;45mNone\u001b[0m, \u001b[38;5;34m30\u001b[0m, \u001b[38;5;34m80\u001b[0m)         │             \u001b[38;5;34m0\u001b[0m │\n",
       "├─────────────────────────────────┼────────────────────────┼───────────────┤\n",
       "│ lstm_1 (\u001b[38;5;33mLSTM\u001b[0m)                   │ (\u001b[38;5;45mNone\u001b[0m, \u001b[38;5;34m40\u001b[0m)             │        \u001b[38;5;34m19,360\u001b[0m │\n",
       "├─────────────────────────────────┼────────────────────────┼───────────────┤\n",
       "│ dropout_1 (\u001b[38;5;33mDropout\u001b[0m)             │ (\u001b[38;5;45mNone\u001b[0m, \u001b[38;5;34m40\u001b[0m)             │             \u001b[38;5;34m0\u001b[0m │\n",
       "├─────────────────────────────────┼────────────────────────┼───────────────┤\n",
       "│ dense (\u001b[38;5;33mDense\u001b[0m)                   │ (\u001b[38;5;45mNone\u001b[0m, \u001b[38;5;34m1\u001b[0m)              │            \u001b[38;5;34m41\u001b[0m │\n",
       "└─────────────────────────────────┴────────────────────────┴───────────────┘\n"
      ]
     },
     "metadata": {},
     "output_type": "display_data"
    },
    {
     "data": {
      "text/html": [
       "<pre style=\"white-space:pre;overflow-x:auto;line-height:normal;font-family:Menlo,'DejaVu Sans Mono',consolas,'Courier New',monospace\"><span style=\"font-weight: bold\"> Total params: </span><span style=\"color: #00af00; text-decoration-color: #00af00\">49,481</span> (193.29 KB)\n",
       "</pre>\n"
      ],
      "text/plain": [
       "\u001b[1m Total params: \u001b[0m\u001b[38;5;34m49,481\u001b[0m (193.29 KB)\n"
      ]
     },
     "metadata": {},
     "output_type": "display_data"
    },
    {
     "data": {
      "text/html": [
       "<pre style=\"white-space:pre;overflow-x:auto;line-height:normal;font-family:Menlo,'DejaVu Sans Mono',consolas,'Courier New',monospace\"><span style=\"font-weight: bold\"> Trainable params: </span><span style=\"color: #00af00; text-decoration-color: #00af00\">49,481</span> (193.29 KB)\n",
       "</pre>\n"
      ],
      "text/plain": [
       "\u001b[1m Trainable params: \u001b[0m\u001b[38;5;34m49,481\u001b[0m (193.29 KB)\n"
      ]
     },
     "metadata": {},
     "output_type": "display_data"
    },
    {
     "data": {
      "text/html": [
       "<pre style=\"white-space:pre;overflow-x:auto;line-height:normal;font-family:Menlo,'DejaVu Sans Mono',consolas,'Courier New',monospace\"><span style=\"font-weight: bold\"> Non-trainable params: </span><span style=\"color: #00af00; text-decoration-color: #00af00\">0</span> (0.00 B)\n",
       "</pre>\n"
      ],
      "text/plain": [
       "\u001b[1m Non-trainable params: \u001b[0m\u001b[38;5;34m0\u001b[0m (0.00 B)\n"
      ]
     },
     "metadata": {},
     "output_type": "display_data"
    },
    {
     "name": "stdout",
     "output_type": "stream",
     "text": [
      "Epoch 1/20\n",
      "\u001b[1m221/221\u001b[0m \u001b[32m━━━━━━━━━━━━━━━━━━━━\u001b[0m\u001b[37m\u001b[0m \u001b[1m7s\u001b[0m 24ms/step - loss: 82.9316 - val_loss: 77.5049\n",
      "Epoch 2/20\n",
      "\u001b[1m221/221\u001b[0m \u001b[32m━━━━━━━━━━━━━━━━━━━━\u001b[0m\u001b[37m\u001b[0m \u001b[1m5s\u001b[0m 22ms/step - loss: 74.2955 - val_loss: 69.7599\n",
      "Epoch 3/20\n",
      "\u001b[1m221/221\u001b[0m \u001b[32m━━━━━━━━━━━━━━━━━━━━\u001b[0m\u001b[37m\u001b[0m \u001b[1m5s\u001b[0m 21ms/step - loss: 66.7579 - val_loss: 63.0248\n",
      "Epoch 4/20\n",
      "\u001b[1m221/221\u001b[0m \u001b[32m━━━━━━━━━━━━━━━━━━━━\u001b[0m\u001b[37m\u001b[0m \u001b[1m5s\u001b[0m 22ms/step - loss: 60.3717 - val_loss: 56.6923\n",
      "Epoch 5/20\n",
      "\u001b[1m221/221\u001b[0m \u001b[32m━━━━━━━━━━━━━━━━━━━━\u001b[0m\u001b[37m\u001b[0m \u001b[1m5s\u001b[0m 23ms/step - loss: 54.4310 - val_loss: 51.2709\n",
      "Epoch 6/20\n",
      "\u001b[1m221/221\u001b[0m \u001b[32m━━━━━━━━━━━━━━━━━━━━\u001b[0m\u001b[37m\u001b[0m \u001b[1m5s\u001b[0m 21ms/step - loss: 49.2846 - val_loss: 46.0836\n",
      "Epoch 7/20\n",
      "\u001b[1m221/221\u001b[0m \u001b[32m━━━━━━━━━━━━━━━━━━━━\u001b[0m\u001b[37m\u001b[0m \u001b[1m5s\u001b[0m 21ms/step - loss: 44.7469 - val_loss: 41.7485\n",
      "Epoch 8/20\n",
      "\u001b[1m221/221\u001b[0m \u001b[32m━━━━━━━━━━━━━━━━━━━━\u001b[0m\u001b[37m\u001b[0m \u001b[1m5s\u001b[0m 21ms/step - loss: 40.8186 - val_loss: 38.3828\n",
      "Epoch 9/20\n",
      "\u001b[1m221/221\u001b[0m \u001b[32m━━━━━━━━━━━━━━━━━━━━\u001b[0m\u001b[37m\u001b[0m \u001b[1m5s\u001b[0m 21ms/step - loss: 37.5514 - val_loss: 35.0192\n",
      "Epoch 10/20\n",
      "\u001b[1m221/221\u001b[0m \u001b[32m━━━━━━━━━━━━━━━━━━━━\u001b[0m\u001b[37m\u001b[0m \u001b[1m5s\u001b[0m 21ms/step - loss: 34.6493 - val_loss: 32.4450\n",
      "Epoch 11/20\n",
      "\u001b[1m221/221\u001b[0m \u001b[32m━━━━━━━━━━━━━━━━━━━━\u001b[0m\u001b[37m\u001b[0m \u001b[1m5s\u001b[0m 20ms/step - loss: 32.2148 - val_loss: 30.1673\n",
      "Epoch 12/20\n",
      "\u001b[1m221/221\u001b[0m \u001b[32m━━━━━━━━━━━━━━━━━━━━\u001b[0m\u001b[37m\u001b[0m \u001b[1m5s\u001b[0m 21ms/step - loss: 30.2806 - val_loss: 28.0535\n",
      "Epoch 13/20\n",
      "\u001b[1m221/221\u001b[0m \u001b[32m━━━━━━━━━━━━━━━━━━━━\u001b[0m\u001b[37m\u001b[0m \u001b[1m5s\u001b[0m 21ms/step - loss: 28.3577 - val_loss: 26.5912\n",
      "Epoch 14/20\n",
      "\u001b[1m221/221\u001b[0m \u001b[32m━━━━━━━━━━━━━━━━━━━━\u001b[0m\u001b[37m\u001b[0m \u001b[1m5s\u001b[0m 21ms/step - loss: 26.7313 - val_loss: 25.1688\n",
      "Epoch 15/20\n",
      "\u001b[1m221/221\u001b[0m \u001b[32m━━━━━━━━━━━━━━━━━━━━\u001b[0m\u001b[37m\u001b[0m \u001b[1m5s\u001b[0m 20ms/step - loss: 25.4609 - val_loss: 23.5097\n",
      "Epoch 16/20\n",
      "\u001b[1m221/221\u001b[0m \u001b[32m━━━━━━━━━━━━━━━━━━━━\u001b[0m\u001b[37m\u001b[0m \u001b[1m5s\u001b[0m 21ms/step - loss: 24.0772 - val_loss: 21.8505\n",
      "Epoch 17/20\n",
      "\u001b[1m221/221\u001b[0m \u001b[32m━━━━━━━━━━━━━━━━━━━━\u001b[0m\u001b[37m\u001b[0m \u001b[1m5s\u001b[0m 21ms/step - loss: 22.9169 - val_loss: 21.1565\n",
      "Epoch 18/20\n",
      "\u001b[1m221/221\u001b[0m \u001b[32m━━━━━━━━━━━━━━━━━━━━\u001b[0m\u001b[37m\u001b[0m \u001b[1m5s\u001b[0m 21ms/step - loss: 21.7098 - val_loss: 20.3187\n",
      "Epoch 19/20\n",
      "\u001b[1m221/221\u001b[0m \u001b[32m━━━━━━━━━━━━━━━━━━━━\u001b[0m\u001b[37m\u001b[0m \u001b[1m5s\u001b[0m 20ms/step - loss: 20.9204 - val_loss: 19.0489\n",
      "Epoch 20/20\n",
      "\u001b[1m221/221\u001b[0m \u001b[32m━━━━━━━━━━━━━━━━━━━━\u001b[0m\u001b[37m\u001b[0m \u001b[1m5s\u001b[0m 21ms/step - loss: 20.1656 - val_loss: 18.2404\n"
     ]
    }
   ],
   "source": [
    "from tensorflow.keras.models import Sequential\n",
    "from tensorflow.keras.layers import LSTM, Dense, Dropout\n",
    "from tensorflow.keras import Input\n",
    "\n",
    "model = Sequential([\n",
    "    Input(shape=(SEQUENCE_LENGTH, len(features))),\n",
    "    LSTM(80, return_sequences=True),\n",
    "    Dropout(0.2),\n",
    "    LSTM(40, return_sequences=False),\n",
    "    Dropout(0.2),\n",
    "    Dense(1)\n",
    "])\n",
    "\n",
    "model.compile(loss='mae', optimizer='adam')\n",
    "model.summary()\n",
    "\n",
    "history = model.fit(X_train, y_train, epochs=20, batch_size=64,\n",
    "                    validation_data=(X_val, y_val))\n"
   ]
  },
  {
   "cell_type": "code",
   "execution_count": 6,
   "id": "0f7fdf7f",
   "metadata": {},
   "outputs": [
    {
     "data": {
      "image/png": "[encoded data removed]",
      "text/plain": [
       "<Figure size 640x480 with 1 Axes>"
      ]
     },
     "metadata": {},
     "output_type": "display_data"
    },
    {
     "name": "stdout",
     "output_type": "stream",
     "text": [
      "\u001b[1m111/111\u001b[0m \u001b[32m━━━━━━━━━━━━━━━━━━━━\u001b[0m\u001b[37m\u001b[0m \u001b[1m1s\u001b[0m 5ms/step\n",
      "LSTM Validation MAE: 18.24, RMSE: 31.73\n"
     ]
    }
   ],
   "source": [
    "import matplotlib.pyplot as plt\n",
    "\n",
    "# Loss curves\n",
    "plt.plot(history.history['loss'], label='train MAE')\n",
    "plt.plot(history.history['val_loss'], label='val MAE')\n",
    "plt.legend()\n",
    "plt.title(\"LSTM Training/Validation MAE\")\n",
    "plt.show()\n",
    "\n",
    "# Predictions\n",
    "y_val_pred = model.predict(X_val).flatten()\n",
    "from sklearn.metrics import mean_absolute_error, mean_squared_error\n",
    "mae = mean_absolute_error(y_val, y_val_pred)\n",
    "rmse = np.sqrt(mean_squared_error(y_val, y_val_pred))\n",
    "print(f\"LSTM Validation MAE: {mae:.2f}, RMSE: {rmse:.2f}\")\n"
   ]
  },
  {
   "cell_type": "code",
   "execution_count": 7,
   "id": "be6cf62f",
   "metadata": {},
   "outputs": [],
   "source": [
    "import joblib\n",
    "joblib.dump(scaler, \"../model/lstm_scaler.joblib\")\n",
    "model.save(\"../model/lstm_rul_model.keras\")\n"
   ]
  },
  {
   "cell_type": "markdown",
   "id": "0fd34682",
   "metadata": {},
   "source": [
    "#### Fine tuning model"
   ]
  },
  {
   "cell_type": "code",
   "execution_count": 8,
   "id": "67061780",
   "metadata": {},
   "outputs": [
    {
     "name": "stdout",
     "output_type": "stream",
     "text": [
      "Trial 10 Complete [00h 00m 46s]\n",
      "val_mae: 21.320446014404297\n",
      "\n",
      "Best val_mae So Far: 21.320446014404297\n",
      "Total elapsed time: 00h 09m 19s\n"
     ]
    },
    {
     "name": "stderr",
     "output_type": "stream",
     "text": [
      "/Users/rajeevdas/Documents/predictive-maintenance-mlops/.venv/lib/python3.12/site-packages/keras/src/saving/saving_lib.py:797: UserWarning: Skipping variable loading for optimizer 'adam', because it has 2 variables whereas the saved optimizer has 18 variables. \n",
      "  saveable.load_own_variables(weights_store.get(inner_path))\n"
     ]
    }
   ],
   "source": [
    "# 1. Insert this after you have X_train, X_val, y_train, y_val, and scaler ready (see above)\n",
    "import keras_tuner as kt\n",
    "from tensorflow.keras.models import Sequential\n",
    "from tensorflow.keras.layers import LSTM, Dense, Dropout\n",
    "from tensorflow.keras.optimizers import Adam\n",
    "from tensorflow.keras import Input\n",
    "\n",
    "def build_lstm_model(hp):\n",
    "    model = Sequential()\n",
    "    model.add(Input(shape=(SEQUENCE_LENGTH, len(features))))\n",
    "    # First LSTM\n",
    "    model.add(LSTM(\n",
    "        units=hp.Int('units1', min_value=32, max_value=128, step=32),\n",
    "        activation='tanh',\n",
    "        return_sequences=True\n",
    "    ))\n",
    "    model.add(Dropout(hp.Float('dropout1', 0.1, 0.5, step=0.1)))\n",
    "    # Optional second LSTM\n",
    "    if hp.Boolean('second_lstm'):\n",
    "        model.add(LSTM(\n",
    "            units=hp.Int('units2', min_value=16, max_value=64, step=16),\n",
    "            activation='tanh',\n",
    "            return_sequences=False\n",
    "        ))\n",
    "        model.add(Dropout(hp.Float('dropout2', 0.1, 0.5, step=0.1)))\n",
    "    else:\n",
    "        model.add(LSTM(\n",
    "            units=hp.Int('units2_flat', min_value=16, max_value=64, step=16),\n",
    "            activation='tanh',\n",
    "            return_sequences=False\n",
    "        ))\n",
    "    model.add(Dense(1))\n",
    "    # To avoid optimizer variable mismatch warnings when loading/saving models,\n",
    "    # do not save the optimizer state unless you need to resume training.\n",
    "    # When compiling the model, you can use a freshly instantiated optimizer.\n",
    "    model.compile(loss='mae', optimizer=Adam(), metrics=['mae'])\n",
    "    return model\n",
    "\n",
    "tuner = kt.RandomSearch(\n",
    "    build_lstm_model,\n",
    "    objective='val_mae',\n",
    "    max_trials=10,\n",
    "    executions_per_trial=1,\n",
    "    directory='../model/lstm_tuning',\n",
    "    project_name='fd001_rul'\n",
    ")\n",
    "\n",
    "tuner.search(\n",
    "    X_train, y_train,\n",
    "    epochs=15,\n",
    "    validation_data=(X_val, y_val),\n",
    "    batch_size=64,   # or hp.Int('batch_size', 32, 128, step=32) if you want to tune this too\n",
    "    verbose=2\n",
    ")\n",
    "\n",
    "best_lstm = tuner.get_best_models(num_models=1)[0]\n"
   ]
  },
  {
   "cell_type": "code",
   "execution_count": 9,
   "id": "f4a48095",
   "metadata": {},
   "outputs": [
    {
     "name": "stdout",
     "output_type": "stream",
     "text": [
      "Best hyperparameters: {'units1': 32, 'dropout1': 0.30000000000000004, 'second_lstm': True, 'units2_flat': 16, 'units2': 48, 'dropout2': 0.30000000000000004}\n"
     ]
    }
   ],
   "source": [
    "best_hp = tuner.get_best_hyperparameters(1)[0]\n",
    "\n",
    "print(\"Best hyperparameters:\", best_hp.values)"
   ]
  },
  {
   "cell_type": "markdown",
   "id": "5f3b4ac6",
   "metadata": {},
   "source": [
    "#### Re-training LSTM Model with entire Test set using best hyperparameters"
   ]
  },
  {
   "cell_type": "code",
   "execution_count": 13,
   "id": "7c70aaf2",
   "metadata": {},
   "outputs": [
    {
     "name": "stdout",
     "output_type": "stream",
     "text": [
      "Epoch 1/15\n",
      "276/276 - 6s - 21ms/step - loss: 80.3702 - mae: 80.3702\n",
      "Epoch 2/15\n",
      "276/276 - 4s - 15ms/step - loss: 68.7883 - mae: 68.7883\n",
      "Epoch 3/15\n",
      "276/276 - 4s - 15ms/step - loss: 57.9489 - mae: 57.9489\n",
      "Epoch 4/15\n",
      "276/276 - 4s - 14ms/step - loss: 49.7290 - mae: 49.7290\n",
      "Epoch 5/15\n",
      "276/276 - 4s - 15ms/step - loss: 43.1217 - mae: 43.1217\n",
      "Epoch 6/15\n",
      "276/276 - 4s - 13ms/step - loss: 38.0055 - mae: 38.0055\n",
      "Epoch 7/15\n",
      "276/276 - 4s - 15ms/step - loss: 33.9617 - mae: 33.9617\n",
      "Epoch 8/15\n",
      "276/276 - 4s - 16ms/step - loss: 30.9376 - mae: 30.9376\n",
      "Epoch 9/15\n",
      "276/276 - 4s - 14ms/step - loss: 28.4412 - mae: 28.4412\n",
      "Epoch 10/15\n",
      "276/276 - 4s - 14ms/step - loss: 26.5664 - mae: 26.5664\n",
      "Epoch 11/15\n",
      "276/276 - 4s - 15ms/step - loss: 24.8081 - mae: 24.8081\n",
      "Epoch 12/15\n",
      "276/276 - 4s - 13ms/step - loss: 23.6376 - mae: 23.6376\n",
      "Epoch 13/15\n",
      "276/276 - 4s - 15ms/step - loss: 22.4910 - mae: 22.4910\n",
      "Epoch 14/15\n",
      "276/276 - 4s - 15ms/step - loss: 21.4347 - mae: 21.4347\n",
      "Epoch 15/15\n",
      "276/276 - 4s - 15ms/step - loss: 20.5623 - mae: 20.5623\n"
     ]
    }
   ],
   "source": [
    "# Re-training LSTM Model using bets paramters on full training set\n",
    "model = build_lstm_model(best_hp)\n",
    "\n",
    "X_full = np.concatenate([X_train, X_val], axis=0)\n",
    "y_full = np.concatenate([y_train, y_val], axis=0)\n",
    "\n",
    "history = model.fit(\n",
    "    X_full, y_full,\n",
    "    epochs=15,   # Set your desired number of epochs here\n",
    "    batch_size=64,\n",
    "    verbose=2\n",
    ")\n",
    "\n"
   ]
  },
  {
   "cell_type": "code",
   "execution_count": 14,
   "id": "772f2683",
   "metadata": {},
   "outputs": [],
   "source": [
    "# ✅ Save without optimizer state to avoid warnings\n",
    "joblib.dump(scaler, \"../model/lstm_scaler_tuned.joblib\") # its the same scaler as used for baseline lstm model\n",
    "best_lstm.save(\"../model/best_lstm_finetuned.keras\", include_optimizer=False)"
   ]
  },
  {
   "cell_type": "markdown",
   "id": "a20226b1",
   "metadata": {},
   "source": [
    "### TESTING"
   ]
  },
  {
   "cell_type": "code",
   "execution_count": 15,
   "id": "31af7b81",
   "metadata": {},
   "outputs": [],
   "source": [
    "import pandas as pd\n",
    "import numpy as np\n",
    "import joblib\n",
    "\n",
    "SEQUENCE_LENGTH = 30\n",
    "features = [\n",
    "    'op_setting_1', 'op_setting_2',\n",
    "    'sensor_4_rollmean', 'sensor_12', 'sensor_7', 'sensor_21', 'sensor_20',\n",
    "    'sensor_12_rollmean', 'sensor_7_rollmean', 'sensor_21_rollmean',\n",
    "    'sensor_12_slope', 'sensor_7_slope', 'sensor_21_slope'\n",
    "]\n",
    "\n",
    "# Helpers for rolling stats\n",
    "def add_rolling_mean(df, sensors, window):\n",
    "    for sensor in sensors:\n",
    "        df[f'{sensor}_rollmean'] = (\n",
    "            df.groupby('unit')[sensor].rolling(window, min_periods=1).mean().reset_index(level=0, drop=True)\n",
    "        )\n",
    "    return df\n",
    "\n",
    "def add_rolling_slope(df, sensors, window):\n",
    "    def rolling_slope(x):\n",
    "        def linreg(x):\n",
    "            if len(x) < 2:\n",
    "                return np.nan\n",
    "            idx = np.arange(len(x))\n",
    "            return np.polyfit(idx, x, 1)[0]\n",
    "        return x.rolling(window, min_periods=2).apply(linreg, raw=True)\n",
    "    for sensor in sensors:\n",
    "        df[f'{sensor}_slope'] = df.groupby('unit')[sensor].apply(rolling_slope).reset_index(level=0, drop=True)\n",
    "    return df\n",
    "\n",
    "# Load test set\n",
    "test = pd.read_csv('../data/CMAPSSData/test_FD001.txt', sep='\\\\s+', header=None)\n",
    "col_names = ['unit', 'cycle', 'op_setting_1', 'op_setting_2', 'op_setting_3'] + [f'sensor_{i}' for i in range(1, 22)]\n",
    "test.columns = col_names\n",
    "\n",
    "drop_cols = ['op_setting_3', 'sensor_1', 'sensor_5', 'sensor_6', 'sensor_10', 'sensor_16', 'sensor_18', 'sensor_19']\n",
    "test = test.drop(columns=drop_cols)\n",
    "\n",
    "# Engineer RUL column for each cycle (if you want to do diagnostics; not needed for prediction)\n",
    "# True RUL for each engine is only available for the last cycle.\n",
    "test['max_cycle'] = test.groupby('unit')['cycle'].transform('max')\n",
    "test['RUL'] = test['max_cycle'] - test['cycle']\n",
    "\n",
    "# Add rolling features\n",
    "rolling_sensors = ['sensor_4', 'sensor_12', 'sensor_7', 'sensor_21']\n",
    "slope_sensors = ['sensor_12', 'sensor_7', 'sensor_21']\n",
    "test = add_rolling_mean(test, rolling_sensors, window=5)\n",
    "test = add_rolling_slope(test, slope_sensors, window=5)\n",
    "\n",
    "# Dropna for any sequence with missing rolling/slope values (early cycles)\n",
    "test = test.dropna(subset=features)\n"
   ]
  },
  {
   "cell_type": "code",
   "execution_count": 16,
   "id": "a64bd48c",
   "metadata": {},
   "outputs": [],
   "source": [
    "def create_test_sequences(df, seq_length, feature_list):\n",
    "    # For every engine, take the last window (ending at its last cycle)\n",
    "    X_test_seq = []\n",
    "    unit_list = []\n",
    "    for unit_num in df['unit'].unique():\n",
    "        sub = df[df['unit'] == unit_num].sort_values('cycle')\n",
    "        if len(sub) >= seq_length:\n",
    "            x = sub[feature_list].values[-seq_length:]  # last window\n",
    "            X_test_seq.append(x)\n",
    "            unit_list.append(unit_num)\n",
    "    return np.array(X_test_seq), unit_list\n",
    "\n",
    "X_test_seq, test_unit_numbers = create_test_sequences(test, SEQUENCE_LENGTH, features)\n"
   ]
  },
  {
   "cell_type": "code",
   "execution_count": 17,
   "id": "8e461237",
   "metadata": {},
   "outputs": [],
   "source": [
    "scaler = joblib.load(\"../model/lstm_scaler.joblib\")  # Or keep it from your training script\n",
    "nsamples, nsteps, nfeatures = X_test_seq.shape\n",
    "X_test_seq_flat = X_test_seq.reshape(-1, nfeatures)\n",
    "X_test_scaled_flat = scaler.transform(X_test_seq_flat)\n",
    "X_test_scaled = X_test_scaled_flat.reshape(nsamples, nsteps, nfeatures)\n",
    "\n",
    "scaler_tuned = joblib.load(\"../model/lstm_scaler_tuned.joblib\")  # Or keep it from your training script\n",
    "# nsamples, nsteps, nfeatures = X_test_seq.shape\n",
    "# X_test_seq_flat = X_test_seq.reshape(-1, nfeatures)\n",
    "X_test_scaled_flat_tuned = scaler_tuned.transform(X_test_seq_flat)\n",
    "X_test_scaled_tuned = X_test_scaled_flat_tuned.reshape(nsamples, nsteps, nfeatures)\n"
   ]
  },
  {
   "cell_type": "code",
   "execution_count": 18,
   "id": "2bc5aa17",
   "metadata": {},
   "outputs": [],
   "source": [
    "from tensorflow.keras.models import load_model\n",
    "\n",
    "import os\n",
    "import warnings\n",
    "\n",
    "# Optionally reduce TF log verbosity\n",
    "os.environ[\"TF_CPP_MIN_LOG_LEVEL\"] = \"2\"  # 0=all, 1=INFO, 2=WARNING, 3=ERROR\n",
    "\n",
    "# Load baseline\n",
    "model = load_model(\"../model/lstm_rul_model.keras\", compile=False)\n",
    "model.compile(loss=\"mae\", optimizer=Adam(), metrics=[\"mae\"])\n",
    "\n",
    "# Predict\n",
    "y_pred_lstm = model.predict(X_test_scaled, batch_size=128, verbose=0).ravel()\n",
    "\n",
    "# Load tuned without optimizer\n",
    "bestmodel = load_model(\"../model/best_lstm_finetuned.keras\", compile=False)\n",
    "bestmodel.compile(loss=\"mae\", optimizer=Adam(), metrics=[\"mae\"])\n",
    "\n",
    "# Predict\n",
    "y_pred_lstm_tuned = bestmodel.predict(X_test_scaled_tuned, batch_size=128, verbose=0).ravel()\n"
   ]
  },
  {
   "cell_type": "code",
   "execution_count": 19,
   "id": "5739038c",
   "metadata": {},
   "outputs": [
    {
     "name": "stdout",
     "output_type": "stream",
     "text": [
      "LSTM Test set MAE: 16.82, RMSE: 21.84\n",
      "Tuned LSTM Test set MAE: 15.48, RMSE: 20.07\n",
      "   unit  true_RUL  predicted_RUL_lstm  predicted_RUL_lstm_tunned\n",
      "0     1       112          132.800293                 123.067627\n",
      "1     2        98          131.459930                 123.392548\n",
      "2     3        69           64.902512                  59.183712\n",
      "3     4        82           95.759926                 121.007462\n",
      "4     5        91           77.327354                  87.278107\n",
      "5     6        93           98.420288                  94.035126\n",
      "6     7        91          108.355736                 121.295792\n",
      "7     8        95           84.528816                 122.825348\n",
      "8     9       111          132.771606                 123.429169\n",
      "9    10        96          100.542961                  73.125839\n"
     ]
    }
   ],
   "source": [
    "# Load true RULs for the test engines\n",
    "true_rul = pd.read_csv('../data/CMAPSSData/RUL_FD001.txt', sep='\\\\s+', names=['true_RUL'])\n",
    "y_true = true_rul['true_RUL'].values[:len(y_pred_lstm)]  # Match sequence count to predictions\n",
    "\n",
    "from sklearn.metrics import mean_absolute_error, mean_squared_error\n",
    "\n",
    "# Baseline LSTM Model results\n",
    "mae = mean_absolute_error(y_true, y_pred_lstm)\n",
    "rmse = np.sqrt(mean_squared_error(y_true, y_pred_lstm))\n",
    "print(f\"LSTM Test set MAE: {mae:.2f}, RMSE: {rmse:.2f}\")\n",
    "\n",
    "# Tunned LSTM Model results\n",
    "mae_tunned = mean_absolute_error(y_true, y_pred_lstm_tuned)\n",
    "rmse_tunned = np.sqrt(mean_squared_error(y_true, y_pred_lstm_tuned))\n",
    "print(f\"Tuned LSTM Test set MAE: {mae_tunned:.2f}, RMSE: {rmse_tunned:.2f}\")\n",
    "\n",
    "# Combine and inspect results\n",
    "test_result_df = pd.DataFrame({\n",
    "    'unit': test_unit_numbers,\n",
    "    'true_RUL': y_true,\n",
    "    'predicted_RUL_lstm': y_pred_lstm,\n",
    "    'predicted_RUL_lstm_tunned': y_pred_lstm_tuned\n",
    "})\n",
    "print(test_result_df.head(10))\n"
   ]
  },
  {
   "cell_type": "code",
   "execution_count": 20,
   "id": "070f8266",
   "metadata": {},
   "outputs": [
    {
     "data": {
      "application/vnd.plotly.v1+json": {
       "config": {
        "plotlyServerURL": "https://plot.ly"
       },
       "data": [
        {
         "hovertemplate": "Unit: %{text}<br>True RUL: %{x}<br>Predicted RUL (LSTM): %{y}<extra></extra>",
         "marker": {
          "color": "blue"
         },
         "mode": "markers",
         "name": "LSTM",
         "text": {
          "bdata": "AAAAAAAA8D8AAAAAAAAAQAAAAAAAAAhAAAAAAAAAEEAAAAAAAAAUQAAAAAAAABhAAAAAAAAAHEAAAAAAAAAgQAAAAAAAACJAAAAAAAAAJEAAAAAAAAAmQAAAAAAAAChAAAAAAAAAKkAAAAAAAAAsQAAAAAAAAC5AAAAAAAAAMEAAAAAAAAAxQAAAAAAAADJAAAAAAAAAM0AAAAAAAAA0QAAAAAAAADVAAAAAAAAANkAAAAAAAAA3QAAAAAAAADhAAAAAAAAAOUAAAAAAAAA6QAAAAAAAADtAAAAAAAAAPEAAAAAAAAA9QAAAAAAAAD5AAAAAAAAAP0AAAAAAAABAQAAAAAAAgEBAAAAAAAAAQUAAAAAAAIBBQAAAAAAAAEJAAAAAAACAQkAAAAAAAABDQAAAAAAAgENAAAAAAAAAREAAAAAAAIBEQAAAAAAAAEVAAAAAAACARUAAAAAAAABGQAAAAAAAgEZAAAAAAAAAR0AAAAAAAIBHQAAAAAAAAEhAAAAAAACASEAAAAAAAABJQAAAAAAAgElAAAAAAAAASkAAAAAAAIBKQAAAAAAAAEtAAAAAAACAS0AAAAAAAABMQAAAAAAAgExAAAAAAAAATUAAAAAAAIBNQAAAAAAAAE5AAAAAAACATkAAAAAAAABPQAAAAAAAgE9AAAAAAAAAUEAAAAAAAEBQQAAAAAAAgFBAAAAAAADAUEAAAAAAAABRQAAAAAAAQFFAAAAAAACAUUAAAAAAAMBRQAAAAAAAAFJAAAAAAABAUkAAAAAAAIBSQAAAAAAAwFJAAAAAAAAAU0AAAAAAAEBTQAAAAAAAgFNAAAAAAADAU0AAAAAAAABUQAAAAAAAQFRAAAAAAACAVEAAAAAAAMBUQAAAAAAAAFVAAAAAAABAVUAAAAAAAIBVQAAAAAAAwFVAAAAAAAAAVkAAAAAAAEBWQAAAAAAAgFZAAAAAAADAVkAAAAAAAABXQAAAAAAAQFdAAAAAAACAV0AAAAAAAMBXQAAAAAAAAFhAAAAAAABAWEAAAAAAAIBYQAAAAAAAwFhAAAAAAAAAWUA=",
          "dtype": "f8"
         },
         "type": "scatter",
         "x": {
          "bdata": "cABiAEUAUgBbAF0AWwBfAG8AYABhAHwAXwBrAFMAVAAyABwAVwAQADkAbwBxABQAkQB3AEIAYQBaAHMACAAwAGoABwALABMAFQAyAI4AHAASAAoAOwBtAHIALwCHAFwAFQBPAHIAHQAaAGEAiQAPAGcAJQByAGQAFQA2AEgAHACAAA4ATQAIAHkAXgB2ADIAgwB+AHEACgAiAGsAPwBaAAgACQCJADoAdgBZAHQAcwCIABwAJgAUAFUANwCAAIkAUgA7AHUAFAA=",
          "dtype": "i2"
         },
         "y": {
          "bdata": "4MwEQ751A0MWzoFCFYW/QpunmkIw18RCI7bYQsEOqUKIxQRD/xXJQuoMhUKjAq9CbAauQqqr9EKv9ftCUQEEQ6pDG0LlfR9C2bUEQ9IwbUGbssdCzysEQx+iBEN7ANNBY2j1QifKBEOvn3dCz8rVQrNp+kLETspC6srMP5QjQUIbsARDv1eEQLxwMUHuzkpBD+QOQmoZj0IFpARDGHAVQhxE20FIFg5BkHGtQoJ3BENOHqhCV4FgQn0ZA0NjhQRD0kCeQRq/BEP53uRC0f4HQhjeFEIXswRDcIf/QiubJkFPyb1CNFxcQtAMAkO3+rRC3NTFQZxnMEJ8kmdCF7SQQerCBEMGpOtBN5wEQw67qkBTxARDyqAEQ33KBENDWJdC9b3WQhnuAkNdwwRDXwQeQB8UAkLtywRDgN7uQjMRtUJEvZ5AesUkQazKBEP2CCxCMb4EQ2WomUJOtgRDDee3Qoae0kJOxqJBY/axQUqsrEFpLkZCsdekQplh3EKbxgRD6i7/QhfEwUIdfQRDtCq7QQ==",
          "dtype": "f4"
         }
        },
        {
         "hovertemplate": "Unit: %{text}<br>True RUL: %{x}<br>Predicted RUL (Tuned): %{y}<extra></extra>",
         "marker": {
          "color": "red"
         },
         "mode": "markers",
         "name": "Tuned LSTM",
         "text": {
          "bdata": "AAAAAAAA8D8AAAAAAAAAQAAAAAAAAAhAAAAAAAAAEEAAAAAAAAAUQAAAAAAAABhAAAAAAAAAHEAAAAAAAAAgQAAAAAAAACJAAAAAAAAAJEAAAAAAAAAmQAAAAAAAAChAAAAAAAAAKkAAAAAAAAAsQAAAAAAAAC5AAAAAAAAAMEAAAAAAAAAxQAAAAAAAADJAAAAAAAAAM0AAAAAAAAA0QAAAAAAAADVAAAAAAAAANkAAAAAAAAA3QAAAAAAAADhAAAAAAAAAOUAAAAAAAAA6QAAAAAAAADtAAAAAAAAAPEAAAAAAAAA9QAAAAAAAAD5AAAAAAAAAP0AAAAAAAABAQAAAAAAAgEBAAAAAAAAAQUAAAAAAAIBBQAAAAAAAAEJAAAAAAACAQkAAAAAAAABDQAAAAAAAgENAAAAAAAAAREAAAAAAAIBEQAAAAAAAAEVAAAAAAACARUAAAAAAAABGQAAAAAAAgEZAAAAAAAAAR0AAAAAAAIBHQAAAAAAAAEhAAAAAAACASEAAAAAAAABJQAAAAAAAgElAAAAAAAAASkAAAAAAAIBKQAAAAAAAAEtAAAAAAACAS0AAAAAAAABMQAAAAAAAgExAAAAAAAAATUAAAAAAAIBNQAAAAAAAAE5AAAAAAACATkAAAAAAAABPQAAAAAAAgE9AAAAAAAAAUEAAAAAAAEBQQAAAAAAAgFBAAAAAAADAUEAAAAAAAABRQAAAAAAAQFFAAAAAAACAUUAAAAAAAMBRQAAAAAAAAFJAAAAAAABAUkAAAAAAAIBSQAAAAAAAwFJAAAAAAAAAU0AAAAAAAEBTQAAAAAAAgFNAAAAAAADAU0AAAAAAAABUQAAAAAAAQFRAAAAAAACAVEAAAAAAAMBUQAAAAAAAAFVAAAAAAABAVUAAAAAAAIBVQAAAAAAAwFVAAAAAAAAAVkAAAAAAAEBWQAAAAAAAgFZAAAAAAADAVkAAAAAAAABXQAAAAAAAQFdAAAAAAACAV0AAAAAAAMBXQAAAAAAAAFhAAAAAAABAWEAAAAAAAIBYQAAAAAAAwFhAAAAAAAAAWUA=",
          "dtype": "f8"
         },
         "type": "scatter",
         "x": {
          "bdata": "cABiAEUAUgBbAF0AWwBfAG8AYABhAHwAXwBrAFMAVAAyABwAVwAQADkAbwBxABQAkQB3AEIAYQBaAHMACAAwAGoABwALABMAFQAyAI4AHAASAAoAOwBtAHIALwCHAFwAFQBPAHIAHQAaAGEAiQAPAGcAJQByAGQAFQA2AEgAHACAAA4ATQAIAHkAXgB2ADIAgwB+AHEACgAiAGsAPwBaAAgACQCJADoAdgBZAHQAcwCIABwAJgAUAFUANwCAAIkAUgA7AHUAFAA=",
          "dtype": "i2"
         },
         "y": {
          "bdata": "oCL2QvzI9kIfvGxC0gPyQmSOrkL8EbxCcpfyQpSm9UK82/ZCbkCSQkItaUL2B/FCZr2dQiBv9UI6HPZCYnXZQpLu80FKVAFC9mDaQqxeOEFALslCHOX1Qv4z1kJc+7FBCF3FQpaY9kI5b1tCChT1QjyOmEKaHeZC0KVqQOVUEkIidfZC/Jb1QHTiF0Fo0nNByv/7QVI9p0JK0fZCCN8WQgQrtEG4YQlBuhqpQlKTr0JuIp9CsmiGQtzT80LkOfRClDydQVCY9kIGsuhCrw8PQsxrGkIwlvZCnOjlQhkkZ0GA/KVCF30ZQjTt9EKAw6ZCxmSvQSFuKkJkHIxC5myOQTzj9kII+N1BcmHSQvKK1kCEFfVCtCjeQhTW9kJ8ao9C+A3qQtxq9kJcBZ1CyOKMQHWi0UHg7fZCYB3GQuzwvkJsvqBAbl83QUTa9kIZzh1CmNL1Qp6C9kKqyfZCmg7MQuQrxEJZH6hBpBKOQXgWiEF0iiVCnoeQQvbZ6ELsd/ZClNb0QkquzUKYKvVC4Wu/QQ==",
          "dtype": "f4"
         }
        }
       ],
       "layout": {
        "legend": {
         "title": {
          "text": "Model"
         }
        },
        "shapes": [
         {
          "line": {
           "color": "gray",
           "dash": "dash"
          },
          "name": "Ideal",
          "type": "line",
          "x0": 0,
          "x1": 145,
          "y0": 0,
          "y1": 145
         }
        ],
        "template": {
         "data": {
          "bar": [
           {
            "error_x": {
             "color": "#2a3f5f"
            },
            "error_y": {
             "color": "#2a3f5f"
            },
            "marker": {
             "line": {
              "color": "white",
              "width": 0.5
             },
             "pattern": {
              "fillmode": "overlay",
              "size": 10,
              "solidity": 0.2
             }
            },
            "type": "bar"
           }
          ],
          "barpolar": [
           {
            "marker": {
             "line": {
              "color": "white",
              "width": 0.5
             },
             "pattern": {
              "fillmode": "overlay",
              "size": 10,
              "solidity": 0.2
             }
            },
            "type": "barpolar"
           }
          ],
          "carpet": [
           {
            "aaxis": {
             "endlinecolor": "#2a3f5f",
             "gridcolor": "#C8D4E3",
             "linecolor": "#C8D4E3",
             "minorgridcolor": "#C8D4E3",
             "startlinecolor": "#2a3f5f"
            },
            "baxis": {
             "endlinecolor": "#2a3f5f",
             "gridcolor": "#C8D4E3",
             "linecolor": "#C8D4E3",
             "minorgridcolor": "#C8D4E3",
             "startlinecolor": "#2a3f5f"
            },
            "type": "carpet"
           }
          ],
          "choropleth": [
           {
            "colorbar": {
             "outlinewidth": 0,
             "ticks": ""
            },
            "type": "choropleth"
           }
          ],
          "contour": [
           {
            "colorbar": {
             "outlinewidth": 0,
             "ticks": ""
            },
            "colorscale": [
             [
              0,
              "#0d0887"
             ],
             [
              0.1111111111111111,
              "#46039f"
             ],
             [
              0.2222222222222222,
              "#7201a8"
             ],
             [
              0.3333333333333333,
              "#9c179e"
             ],
             [
              0.4444444444444444,
              "#bd3786"
             ],
             [
              0.5555555555555556,
              "#d8576b"
             ],
             [
              0.6666666666666666,
              "#ed7953"
             ],
             [
              0.7777777777777778,
              "#fb9f3a"
             ],
             [
              0.8888888888888888,
              "#fdca26"
             ],
             [
              1,
              "#f0f921"
             ]
            ],
            "type": "contour"
           }
          ],
          "contourcarpet": [
           {
            "colorbar": {
             "outlinewidth": 0,
             "ticks": ""
            },
            "type": "contourcarpet"
           }
          ],
          "heatmap": [
           {
            "colorbar": {
             "outlinewidth": 0,
             "ticks": ""
            },
            "colorscale": [
             [
              0,
              "#0d0887"
             ],
             [
              0.1111111111111111,
              "#46039f"
             ],
             [
              0.2222222222222222,
              "#7201a8"
             ],
             [
              0.3333333333333333,
              "#9c179e"
             ],
             [
              0.4444444444444444,
              "#bd3786"
             ],
             [
              0.5555555555555556,
              "#d8576b"
             ],
             [
              0.6666666666666666,
              "#ed7953"
             ],
             [
              0.7777777777777778,
              "#fb9f3a"
             ],
             [
              0.8888888888888888,
              "#fdca26"
             ],
             [
              1,
              "#f0f921"
             ]
            ],
            "type": "heatmap"
           }
          ],
          "histogram": [
           {
            "marker": {
             "pattern": {
              "fillmode": "overlay",
              "size": 10,
              "solidity": 0.2
             }
            },
            "type": "histogram"
           }
          ],
          "histogram2d": [
           {
            "colorbar": {
             "outlinewidth": 0,
             "ticks": ""
            },
            "colorscale": [
             [
              0,
              "#0d0887"
             ],
             [
              0.1111111111111111,
              "#46039f"
             ],
             [
              0.2222222222222222,
              "#7201a8"
             ],
             [
              0.3333333333333333,
              "#9c179e"
             ],
             [
              0.4444444444444444,
              "#bd3786"
             ],
             [
              0.5555555555555556,
              "#d8576b"
             ],
             [
              0.6666666666666666,
              "#ed7953"
             ],
             [
              0.7777777777777778,
              "#fb9f3a"
             ],
             [
              0.8888888888888888,
              "#fdca26"
             ],
             [
              1,
              "#f0f921"
             ]
            ],
            "type": "histogram2d"
           }
          ],
          "histogram2dcontour": [
           {
            "colorbar": {
             "outlinewidth": 0,
             "ticks": ""
            },
            "colorscale": [
             [
              0,
              "#0d0887"
             ],
             [
              0.1111111111111111,
              "#46039f"
             ],
             [
              0.2222222222222222,
              "#7201a8"
             ],
             [
              0.3333333333333333,
              "#9c179e"
             ],
             [
              0.4444444444444444,
              "#bd3786"
             ],
             [
              0.5555555555555556,
              "#d8576b"
             ],
             [
              0.6666666666666666,
              "#ed7953"
             ],
             [
              0.7777777777777778,
              "#fb9f3a"
             ],
             [
              0.8888888888888888,
              "#fdca26"
             ],
             [
              1,
              "#f0f921"
             ]
            ],
            "type": "histogram2dcontour"
           }
          ],
          "mesh3d": [
           {
            "colorbar": {
             "outlinewidth": 0,
             "ticks": ""
            },
            "type": "mesh3d"
           }
          ],
          "parcoords": [
           {
            "line": {
             "colorbar": {
              "outlinewidth": 0,
              "ticks": ""
             }
            },
            "type": "parcoords"
           }
          ],
          "pie": [
           {
            "automargin": true,
            "type": "pie"
           }
          ],
          "scatter": [
           {
            "fillpattern": {
             "fillmode": "overlay",
             "size": 10,
             "solidity": 0.2
            },
            "type": "scatter"
           }
          ],
          "scatter3d": [
           {
            "line": {
             "colorbar": {
              "outlinewidth": 0,
              "ticks": ""
             }
            },
            "marker": {
             "colorbar": {
              "outlinewidth": 0,
              "ticks": ""
             }
            },
            "type": "scatter3d"
           }
          ],
          "scattercarpet": [
           {
            "marker": {
             "colorbar": {
              "outlinewidth": 0,
              "ticks": ""
             }
            },
            "type": "scattercarpet"
           }
          ],
          "scattergeo": [
           {
            "marker": {
             "colorbar": {
              "outlinewidth": 0,
              "ticks": ""
             }
            },
            "type": "scattergeo"
           }
          ],
          "scattergl": [
           {
            "marker": {
             "colorbar": {
              "outlinewidth": 0,
              "ticks": ""
             }
            },
            "type": "scattergl"
           }
          ],
          "scattermap": [
           {
            "marker": {
             "colorbar": {
              "outlinewidth": 0,
              "ticks": ""
             }
            },
            "type": "scattermap"
           }
          ],
          "scattermapbox": [
           {
            "marker": {
             "colorbar": {
              "outlinewidth": 0,
              "ticks": ""
             }
            },
            "type": "scattermapbox"
           }
          ],
          "scatterpolar": [
           {
            "marker": {
             "colorbar": {
              "outlinewidth": 0,
              "ticks": ""
             }
            },
            "type": "scatterpolar"
           }
          ],
          "scatterpolargl": [
           {
            "marker": {
             "colorbar": {
              "outlinewidth": 0,
              "ticks": ""
             }
            },
            "type": "scatterpolargl"
           }
          ],
          "scatterternary": [
           {
            "marker": {
             "colorbar": {
              "outlinewidth": 0,
              "ticks": ""
             }
            },
            "type": "scatterternary"
           }
          ],
          "surface": [
           {
            "colorbar": {
             "outlinewidth": 0,
             "ticks": ""
            },
            "colorscale": [
             [
              0,
              "#0d0887"
             ],
             [
              0.1111111111111111,
              "#46039f"
             ],
             [
              0.2222222222222222,
              "#7201a8"
             ],
             [
              0.3333333333333333,
              "#9c179e"
             ],
             [
              0.4444444444444444,
              "#bd3786"
             ],
             [
              0.5555555555555556,
              "#d8576b"
             ],
             [
              0.6666666666666666,
              "#ed7953"
             ],
             [
              0.7777777777777778,
              "#fb9f3a"
             ],
             [
              0.8888888888888888,
              "#fdca26"
             ],
             [
              1,
              "#f0f921"
             ]
            ],
            "type": "surface"
           }
          ],
          "table": [
           {
            "cells": {
             "fill": {
              "color": "#EBF0F8"
             },
             "line": {
              "color": "white"
             }
            },
            "header": {
             "fill": {
              "color": "#C8D4E3"
             },
             "line": {
              "color": "white"
             }
            },
            "type": "table"
           }
          ]
         },
         "layout": {
          "annotationdefaults": {
           "arrowcolor": "#2a3f5f",
           "arrowhead": 0,
           "arrowwidth": 1
          },
          "autotypenumbers": "strict",
          "coloraxis": {
           "colorbar": {
            "outlinewidth": 0,
            "ticks": ""
           }
          },
          "colorscale": {
           "diverging": [
            [
             0,
             "#8e0152"
            ],
            [
             0.1,
             "#c51b7d"
            ],
            [
             0.2,
             "#de77ae"
            ],
            [
             0.3,
             "#f1b6da"
            ],
            [
             0.4,
             "#fde0ef"
            ],
            [
             0.5,
             "#f7f7f7"
            ],
            [
             0.6,
             "#e6f5d0"
            ],
            [
             0.7,
             "#b8e186"
            ],
            [
             0.8,
             "#7fbc41"
            ],
            [
             0.9,
             "#4d9221"
            ],
            [
             1,
             "#276419"
            ]
           ],
           "sequential": [
            [
             0,
             "#0d0887"
            ],
            [
             0.1111111111111111,
             "#46039f"
            ],
            [
             0.2222222222222222,
             "#7201a8"
            ],
            [
             0.3333333333333333,
             "#9c179e"
            ],
            [
             0.4444444444444444,
             "#bd3786"
            ],
            [
             0.5555555555555556,
             "#d8576b"
            ],
            [
             0.6666666666666666,
             "#ed7953"
            ],
            [
             0.7777777777777778,
             "#fb9f3a"
            ],
            [
             0.8888888888888888,
             "#fdca26"
            ],
            [
             1,
             "#f0f921"
            ]
           ],
           "sequentialminus": [
            [
             0,
             "#0d0887"
            ],
            [
             0.1111111111111111,
             "#46039f"
            ],
            [
             0.2222222222222222,
             "#7201a8"
            ],
            [
             0.3333333333333333,
             "#9c179e"
            ],
            [
             0.4444444444444444,
             "#bd3786"
            ],
            [
             0.5555555555555556,
             "#d8576b"
            ],
            [
             0.6666666666666666,
             "#ed7953"
            ],
            [
             0.7777777777777778,
             "#fb9f3a"
            ],
            [
             0.8888888888888888,
             "#fdca26"
            ],
            [
             1,
             "#f0f921"
            ]
           ]
          },
          "colorway": [
           "#636efa",
           "#EF553B",
           "#00cc96",
           "#ab63fa",
           "#FFA15A",
           "#19d3f3",
           "#FF6692",
           "#B6E880",
           "#FF97FF",
           "#FECB52"
          ],
          "font": {
           "color": "#2a3f5f"
          },
          "geo": {
           "bgcolor": "white",
           "lakecolor": "white",
           "landcolor": "white",
           "showlakes": true,
           "showland": true,
           "subunitcolor": "#C8D4E3"
          },
          "hoverlabel": {
           "align": "left"
          },
          "hovermode": "closest",
          "mapbox": {
           "style": "light"
          },
          "paper_bgcolor": "white",
          "plot_bgcolor": "white",
          "polar": {
           "angularaxis": {
            "gridcolor": "#EBF0F8",
            "linecolor": "#EBF0F8",
            "ticks": ""
           },
           "bgcolor": "white",
           "radialaxis": {
            "gridcolor": "#EBF0F8",
            "linecolor": "#EBF0F8",
            "ticks": ""
           }
          },
          "scene": {
           "xaxis": {
            "backgroundcolor": "white",
            "gridcolor": "#DFE8F3",
            "gridwidth": 2,
            "linecolor": "#EBF0F8",
            "showbackground": true,
            "ticks": "",
            "zerolinecolor": "#EBF0F8"
           },
           "yaxis": {
            "backgroundcolor": "white",
            "gridcolor": "#DFE8F3",
            "gridwidth": 2,
            "linecolor": "#EBF0F8",
            "showbackground": true,
            "ticks": "",
            "zerolinecolor": "#EBF0F8"
           },
           "zaxis": {
            "backgroundcolor": "white",
            "gridcolor": "#DFE8F3",
            "gridwidth": 2,
            "linecolor": "#EBF0F8",
            "showbackground": true,
            "ticks": "",
            "zerolinecolor": "#EBF0F8"
           }
          },
          "shapedefaults": {
           "line": {
            "color": "#2a3f5f"
           }
          },
          "ternary": {
           "aaxis": {
            "gridcolor": "#DFE8F3",
            "linecolor": "#A2B1C6",
            "ticks": ""
           },
           "baxis": {
            "gridcolor": "#DFE8F3",
            "linecolor": "#A2B1C6",
            "ticks": ""
           },
           "bgcolor": "white",
           "caxis": {
            "gridcolor": "#DFE8F3",
            "linecolor": "#A2B1C6",
            "ticks": ""
           }
          },
          "title": {
           "x": 0.05
          },
          "xaxis": {
           "automargin": true,
           "gridcolor": "#EBF0F8",
           "linecolor": "#EBF0F8",
           "ticks": "",
           "title": {
            "standoff": 15
           },
           "zerolinecolor": "#EBF0F8",
           "zerolinewidth": 2
          },
          "yaxis": {
           "automargin": true,
           "gridcolor": "#EBF0F8",
           "linecolor": "#EBF0F8",
           "ticks": "",
           "title": {
            "standoff": 15
           },
           "zerolinecolor": "#EBF0F8",
           "zerolinewidth": 2
          }
         }
        },
        "title": {
         "text": "Predicted RUL vs. True RUL (Test Set) - LSTM vs Tuned LSTM"
        },
        "xaxis": {
         "title": {
          "text": "True RUL"
         }
        },
        "yaxis": {
         "title": {
          "text": "Predicted RUL"
         }
        }
       }
      }
     },
     "metadata": {},
     "output_type": "display_data"
    }
   ],
   "source": [
    "import plotly.graph_objects as go\n",
    "\n",
    "fig = go.Figure()\n",
    "\n",
    "# Add baseline LSTM predictions\n",
    "fig.add_trace(go.Scatter(\n",
    "    x=test_result_df['true_RUL'],\n",
    "    y=test_result_df['predicted_RUL_lstm'],\n",
    "    mode='markers',\n",
    "    name='LSTM',\n",
    "    marker=dict(color='blue'),\n",
    "    text=test_result_df['unit'],\n",
    "    hovertemplate='Unit: %{text}<br>True RUL: %{x}<br>Predicted RUL (LSTM): %{y}<extra></extra>'\n",
    "))\n",
    "\n",
    "# Add tuned LSTM predictions\n",
    "fig.add_trace(go.Scatter(\n",
    "    x=test_result_df['true_RUL'],\n",
    "    y=test_result_df['predicted_RUL_lstm_tunned'],\n",
    "    mode='markers',\n",
    "    name='Tuned LSTM',\n",
    "    marker=dict(color='red'),\n",
    "    text=test_result_df['unit'],\n",
    "    hovertemplate='Unit: %{text}<br>True RUL: %{x}<br>Predicted RUL (Tuned): %{y}<extra></extra>'\n",
    "))\n",
    "\n",
    "# Add y=x reference line\n",
    "max_rul = test_result_df['true_RUL'].max()\n",
    "fig.add_shape(\n",
    "    type='line',\n",
    "    x0=0, y0=0, x1=max_rul, y1=max_rul,\n",
    "    line=dict(color='gray', dash='dash'),\n",
    "    name='Ideal'\n",
    ")\n",
    "\n",
    "fig.update_layout(\n",
    "    title=\"Predicted RUL vs. True RUL (Test Set) - LSTM vs Tuned LSTM\",\n",
    "    xaxis_title='True RUL',\n",
    "    yaxis_title='Predicted RUL',\n",
    "    template=\"plotly_white\",\n",
    "    legend_title=\"Model\"\n",
    ")\n",
    "\n",
    "fig.show()\n"
   ]
  },
  {
   "cell_type": "markdown",
   "id": "d53e4d0f",
   "metadata": {},
   "source": [
    "#### Conclusion\n",
    "Leveraging LSTM neural networks with carefully engineered time-series features and hyperparameter optimization achieves state-of-the-art results for data-driven RUL prediction on the NASA CMAPSS dataset.\n",
    "The tuned LSTM model reaches a test MAE of 15.48 cycles, substantially outperforming both classical Random Forest and untuned LSTM baselines.\n",
    "This emphasizes the importance of temporal feature extraction and model tuning in predictive maintenance applications, and demonstrates readiness for robust deployment in production or further extension in research."
   ]
  }
 ],
 "metadata": {
  "kernelspec": {
   "display_name": ".venv",
   "language": "python",
   "name": "python3"
  },
  "language_info": {
   "codemirror_mode": {
    "name": "ipython",
    "version": 3
   },
   "file_extension": ".py",
   "mimetype": "text/x-python",
   "name": "python",
   "nbconvert_exporter": "python",
   "pygments_lexer": "ipython3",
   "version": "3.12.9"
  }
 },
 "nbformat": 4,
 "nbformat_minor": 5
}
